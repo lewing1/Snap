{
 "cells": [
  {
   "cell_type": "markdown",
   "id": "8e579708-e40b-4ed4-b90f-4704a859f096",
   "metadata": {},
   "source": [
    "Model"
   ]
  },
  {
   "cell_type": "markdown",
   "id": "a26059a4-6a85-4f60-8bfc-83fd5c8b8398",
   "metadata": {},
   "source": [
    "Imports"
   ]
  },
  {
   "cell_type": "code",
   "execution_count": 4,
   "id": "1a98ccaa-1c86-42d7-af2e-6d1b4328c108",
   "metadata": {},
   "outputs": [
    {
     "name": "stdout",
     "output_type": "stream",
     "text": [
      "DONE\n"
     ]
    }
   ],
   "source": [
    "import pandas as pd\n",
    "import numpy as np\n",
    "import matplotlib.pyplot as plt\n",
    "import seaborn as sns\n",
    "from pylab import rcParams\n",
    "random_state = 42\n",
    "import autoreload\n",
    "# %load_ext autoreload\n",
    "# %autoreload 2\n",
    "import python_code.Scripts as sc\n",
    "import python_code.Reference as ref\n",
    "import pickle\n",
    "\n",
    "from sklearn.model_selection import train_test_split,cross_val_score,GridSearchCV\n",
    "from sklearn.metrics import accuracy_score,classification_report,confusion_matrix,recall_score,precision_score\n",
    "from treeinterpreter import treeinterpreter as ti\n",
    "from sklearn.preprocessing import StandardScaler\n",
    "from sklearn.decomposition import PCA\n",
    "\n",
    "from sklearn.linear_model import LogisticRegression\n",
    "from sklearn.tree import DecisionTreeClassifier,ExtraTreeClassifier\n",
    "from sklearn.ensemble import RandomForestClassifier,GradientBoostingClassifier,AdaBoostClassifier,BaggingClassifier, VotingClassifier\n",
    "from sklearn.svm import SVC\n",
    "from sklearn.naive_bayes import GaussianNB\n",
    "\n",
    "\n",
    "\n",
    "print(\"DONE\")"
   ]
  },
  {
   "cell_type": "code",
   "execution_count": 5,
   "id": "8cbd35e5-4114-454e-8d71-212d30cc6c84",
   "metadata": {},
   "outputs": [],
   "source": [
    "df = pd.read_csv(\"./data/finalx2.csv\")"
   ]
  },
  {
   "cell_type": "code",
   "execution_count": 6,
   "id": "e66fcbe4-f06b-47fb-a161-1796fef13c31",
   "metadata": {},
   "outputs": [
    {
     "name": "stdout",
     "output_type": "stream",
     "text": [
      "<class 'pandas.core.frame.DataFrame'>\n",
      "RangeIndex: 3904 entries, 0 to 3903\n",
      "Data columns (total 33 columns):\n",
      " #   Column    Non-Null Count  Dtype  \n",
      "---  ------    --------------  -----  \n",
      " 0   FSGRINC   3904 non-null   float64\n",
      " 1   REALPROP  3904 non-null   float64\n",
      " 2   FSGA      3904 non-null   float64\n",
      " 3   FSSSI     3904 non-null   float64\n",
      " 4   CERTHHSZ  3904 non-null   float64\n",
      " 5   FSDIS     3904 non-null   float64\n",
      " 6   FSSLTDE2  3904 non-null   float64\n",
      " 7   FSUNEARN  3904 non-null   float64\n",
      " 8   FSTOTDED  3904 non-null   float64\n",
      " 9   TANF_IND  3904 non-null   float64\n",
      " 10  LIQRESOR  3904 non-null   float64\n",
      " 11  FSWAGES   3904 non-null   float64\n",
      " 12  FSSLTDED  3904 non-null   float64\n",
      " 13  FSNONCIT  3904 non-null   float64\n",
      " 14  FSERNDED  3904 non-null   float64\n",
      " 15  FSEARN    3904 non-null   float64\n",
      " 16  FSTOTDE2  3904 non-null   float64\n",
      " 17  FSSTDDE2  3904 non-null   float64\n",
      " 18  FSERNDE2  3904 non-null   float64\n",
      " 19  FSUSIZE   3904 non-null   float64\n",
      " 20  WRK_POOR  3904 non-null   float64\n",
      " 21  FSASSET   3904 non-null   float64\n",
      " 22  FSTANF    3904 non-null   float64\n",
      " 23  HWGT      3904 non-null   float64\n",
      " 24  FSNELDER  3904 non-null   float64\n",
      " 25  SHELDED   3904 non-null   float64\n",
      " 26  TPOV      3904 non-null   float64\n",
      " 27  FSNETINC  3904 non-null   float64\n",
      " 28  RAWNET    3904 non-null   float64\n",
      " 29  RAWERND   3904 non-null   float64\n",
      " 30  CAT_ELIG  3904 non-null   float64\n",
      " 31  FSVEHAST  3904 non-null   float64\n",
      " 32  VEHICLEA  3904 non-null   float64\n",
      "dtypes: float64(33)\n",
      "memory usage: 1006.6 KB\n"
     ]
    }
   ],
   "source": [
    "df.info()"
   ]
  },
  {
   "cell_type": "markdown",
   "id": "428b860b-7510-40dc-bd58-1add9999816f",
   "metadata": {},
   "source": [
    "Data Prep"
   ]
  },
  {
   "cell_type": "code",
   "execution_count": 7,
   "id": "e9e2f6c4-0980-4227-9be2-61609ad8d594",
   "metadata": {},
   "outputs": [],
   "source": [
    "X= df.drop(columns = ['CAT_ELIG'])\n",
    "y= df['CAT_ELIG']"
   ]
  },
  {
   "cell_type": "code",
   "execution_count": 8,
   "id": "f4c764f2-9073-48a7-9f4a-d711b4353f81",
   "metadata": {},
   "outputs": [
    {
     "data": {
      "text/plain": [
       "1.0    0.662398\n",
       "0.0    0.337602\n",
       "Name: CAT_ELIG, dtype: float64"
      ]
     },
     "execution_count": 8,
     "metadata": {},
     "output_type": "execute_result"
    }
   ],
   "source": [
    "#baseline, NULL Model\n",
    "y.value_counts(normalize=True)\n",
    "#1.0 being 0.662398 your score needs to be at least this number, same for 0.0"
   ]
  },
  {
   "cell_type": "code",
   "execution_count": 9,
   "id": "9cec9ba6-1897-4e1d-8261-68a1f891472a",
   "metadata": {},
   "outputs": [],
   "source": [
    "X_train, X_test, y_train, y_test= train_test_split(X,y,test_size=.3,random_state=random_state)\n",
    "#.3 is industry standard 30% data is tested,70% trained , can change this if accuracy is not reached"
   ]
  },
  {
   "cell_type": "code",
   "execution_count": 10,
   "id": "d4046433-fde0-465c-bcdd-8a90670537fb",
   "metadata": {},
   "outputs": [],
   "source": [
    "ss= StandardScaler()\n",
    "X_train= ss.fit_transform(X_train)\n",
    "X_test= ss.transform(X_test)"
   ]
  },
  {
   "cell_type": "code",
   "execution_count": 11,
   "id": "3c07fc56-27b7-46f2-89e2-4df8c22edd86",
   "metadata": {},
   "outputs": [],
   "source": [
    "np.savetxt('./data/TrainTest/X_train.csv',X_train,delimiter=',')\n",
    "np.savetxt('./data/TrainTest/y_train.csv',y_train,delimiter=',')\n",
    "# np.savetxt('./data/TrainTest/X_test.csv',X_train,delimiter=',')\n",
    "np.savetxt('./data/TrainTest/y_test.csv',X_train,delimiter=',')"
   ]
  },
  {
   "cell_type": "code",
   "execution_count": 12,
   "id": "270bb214-d493-4255-92d1-619d297301ce",
   "metadata": {},
   "outputs": [],
   "source": [
    "pca = PCA(n_components=10,random_state=42)\n",
    "pca.fit(X_train)\n",
    "X_train_pc = pca.transform(X_train)\n",
    "X_test_pc = pca.transform(X_test)"
   ]
  },
  {
   "cell_type": "markdown",
   "id": "67f3d9a9-94f3-479a-a54f-cb7e49ae630d",
   "metadata": {},
   "source": [
    "Models"
   ]
  },
  {
   "cell_type": "code",
   "execution_count": 13,
   "id": "17be7706-c40b-4969-96c5-9338c4d7c17c",
   "metadata": {},
   "outputs": [],
   "source": [
    "models= {\n",
    "    'LogReg': LogisticRegression(),\n",
    "    'Decision Tree': DecisionTreeClassifier(),\n",
    "    'Random Forest': RandomForestClassifier(),\n",
    "    'Gradient Boost': GradientBoostingClassifier(),\n",
    "    'Ada Boost': AdaBoostClassifier(),\n",
    "    'SVC': SVC(),\n",
    "    'Naive Bayes': GaussianNB()}"
   ]
  },
  {
   "cell_type": "code",
   "execution_count": 14,
   "id": "ee84cf4c-71da-4421-8132-4925948f96c6",
   "metadata": {},
   "outputs": [
    {
     "name": "stderr",
     "output_type": "stream",
     "text": [
      "C:\\Users\\Lily Ewing\\AppData\\Local\\Temp\\ipykernel_25780\\1927438446.py:15: FutureWarning: The frame.append method is deprecated and will be removed from pandas in a future version. Use pandas.concat instead.\n",
      "  final= final.append(results,ignore_index=True)\n",
      "C:\\Users\\Lily Ewing\\AppData\\Local\\Temp\\ipykernel_25780\\1927438446.py:15: FutureWarning: The frame.append method is deprecated and will be removed from pandas in a future version. Use pandas.concat instead.\n",
      "  final= final.append(results,ignore_index=True)\n",
      "C:\\Users\\Lily Ewing\\AppData\\Local\\Temp\\ipykernel_25780\\1927438446.py:15: FutureWarning: The frame.append method is deprecated and will be removed from pandas in a future version. Use pandas.concat instead.\n",
      "  final= final.append(results,ignore_index=True)\n",
      "C:\\Users\\Lily Ewing\\AppData\\Local\\Temp\\ipykernel_25780\\1927438446.py:15: FutureWarning: The frame.append method is deprecated and will be removed from pandas in a future version. Use pandas.concat instead.\n",
      "  final= final.append(results,ignore_index=True)\n",
      "C:\\Users\\Lily Ewing\\AppData\\Local\\Temp\\ipykernel_25780\\1927438446.py:15: FutureWarning: The frame.append method is deprecated and will be removed from pandas in a future version. Use pandas.concat instead.\n",
      "  final= final.append(results,ignore_index=True)\n",
      "C:\\Users\\Lily Ewing\\AppData\\Local\\Temp\\ipykernel_25780\\1927438446.py:15: FutureWarning: The frame.append method is deprecated and will be removed from pandas in a future version. Use pandas.concat instead.\n",
      "  final= final.append(results,ignore_index=True)\n",
      "C:\\Users\\Lily Ewing\\AppData\\Local\\Temp\\ipykernel_25780\\1927438446.py:15: FutureWarning: The frame.append method is deprecated and will be removed from pandas in a future version. Use pandas.concat instead.\n",
      "  final= final.append(results,ignore_index=True)\n"
     ]
    }
   ],
   "source": [
    "#adapted from Dan Brown Lecture\n",
    "final= pd.DataFrame(columns= ['cross_val_train','cross_val_test','test_recall','test_precision'])\n",
    "idx=0\n",
    "while idx < len(models.keys()):\n",
    "    for name,model in models.items():\n",
    "        results= {}\n",
    "        results['name']=name\n",
    "        name= model.fit(X_train, y_train)\n",
    "        y_pred_train= model.predict(X_train)\n",
    "        y_pred_test= model.predict(X_test)\n",
    "        results['cross_val_train']= np.mean(cross_val_score(model,X_train,y_train,cv=4))\n",
    "        results['cross_val_test']= np.mean(cross_val_score(model,X_test,y_test,cv=4))\n",
    "        results['test_recall']= recall_score(y_test, y_pred_test)\n",
    "        results['test_precision']= precision_score(y_test, y_pred_test)\n",
    "        final= final.append(results,ignore_index=True)\n",
    "        idx+=1\n",
    "        "
   ]
  },
  {
   "cell_type": "code",
   "execution_count": 15,
   "id": "4c19b8ef-aa3e-4af7-b207-25034a2d3878",
   "metadata": {},
   "outputs": [
    {
     "data": {
      "text/html": [
       "<div>\n",
       "<style scoped>\n",
       "    .dataframe tbody tr th:only-of-type {\n",
       "        vertical-align: middle;\n",
       "    }\n",
       "\n",
       "    .dataframe tbody tr th {\n",
       "        vertical-align: top;\n",
       "    }\n",
       "\n",
       "    .dataframe thead th {\n",
       "        text-align: right;\n",
       "    }\n",
       "</style>\n",
       "<table border=\"1\" class=\"dataframe\">\n",
       "  <thead>\n",
       "    <tr style=\"text-align: right;\">\n",
       "      <th></th>\n",
       "      <th>cross_val_train</th>\n",
       "      <th>cross_val_test</th>\n",
       "      <th>test_recall</th>\n",
       "      <th>test_precision</th>\n",
       "    </tr>\n",
       "    <tr>\n",
       "      <th>name</th>\n",
       "      <th></th>\n",
       "      <th></th>\n",
       "      <th></th>\n",
       "      <th></th>\n",
       "    </tr>\n",
       "  </thead>\n",
       "  <tbody>\n",
       "    <tr>\n",
       "      <th>LogReg</th>\n",
       "      <td>0.884334</td>\n",
       "      <td>0.862628</td>\n",
       "      <td>0.900262</td>\n",
       "      <td>0.903821</td>\n",
       "    </tr>\n",
       "    <tr>\n",
       "      <th>Decision Tree</th>\n",
       "      <td>0.900805</td>\n",
       "      <td>0.911263</td>\n",
       "      <td>0.927822</td>\n",
       "      <td>0.935185</td>\n",
       "    </tr>\n",
       "    <tr>\n",
       "      <th>Random Forest</th>\n",
       "      <td>0.938141</td>\n",
       "      <td>0.933447</td>\n",
       "      <td>0.961942</td>\n",
       "      <td>0.958170</td>\n",
       "    </tr>\n",
       "    <tr>\n",
       "      <th>Gradient Boost</th>\n",
       "      <td>0.941435</td>\n",
       "      <td>0.933447</td>\n",
       "      <td>0.950131</td>\n",
       "      <td>0.961487</td>\n",
       "    </tr>\n",
       "    <tr>\n",
       "      <th>Ada Boost</th>\n",
       "      <td>0.922401</td>\n",
       "      <td>0.920648</td>\n",
       "      <td>0.937008</td>\n",
       "      <td>0.939474</td>\n",
       "    </tr>\n",
       "    <tr>\n",
       "      <th>SVC</th>\n",
       "      <td>0.884700</td>\n",
       "      <td>0.854949</td>\n",
       "      <td>0.901575</td>\n",
       "      <td>0.928378</td>\n",
       "    </tr>\n",
       "    <tr>\n",
       "      <th>Naive Bayes</th>\n",
       "      <td>0.767204</td>\n",
       "      <td>0.741468</td>\n",
       "      <td>0.833333</td>\n",
       "      <td>0.908441</td>\n",
       "    </tr>\n",
       "  </tbody>\n",
       "</table>\n",
       "</div>"
      ],
      "text/plain": [
       "                cross_val_train  cross_val_test  test_recall  test_precision\n",
       "name                                                                        \n",
       "LogReg                 0.884334        0.862628     0.900262        0.903821\n",
       "Decision Tree          0.900805        0.911263     0.927822        0.935185\n",
       "Random Forest          0.938141        0.933447     0.961942        0.958170\n",
       "Gradient Boost         0.941435        0.933447     0.950131        0.961487\n",
       "Ada Boost              0.922401        0.920648     0.937008        0.939474\n",
       "SVC                    0.884700        0.854949     0.901575        0.928378\n",
       "Naive Bayes            0.767204        0.741468     0.833333        0.908441"
      ]
     },
     "execution_count": 15,
     "metadata": {},
     "output_type": "execute_result"
    }
   ],
   "source": [
    "final.set_index('name')\n",
    "#see that all scores are above 0.66 which shows no bias"
   ]
  },
  {
   "cell_type": "code",
   "execution_count": 16,
   "id": "794265ea-cf9a-4543-9306-29e4bd1aec8c",
   "metadata": {},
   "outputs": [
    {
     "name": "stderr",
     "output_type": "stream",
     "text": [
      "C:\\Users\\Lily Ewing\\AppData\\Local\\Temp\\ipykernel_25780\\3201788532.py:14: FutureWarning: The frame.append method is deprecated and will be removed from pandas in a future version. Use pandas.concat instead.\n",
      "  pc_final = pc_final.append(results,ignore_index=True)\n",
      "C:\\Users\\Lily Ewing\\AppData\\Local\\Temp\\ipykernel_25780\\3201788532.py:14: FutureWarning: The frame.append method is deprecated and will be removed from pandas in a future version. Use pandas.concat instead.\n",
      "  pc_final = pc_final.append(results,ignore_index=True)\n",
      "C:\\Users\\Lily Ewing\\AppData\\Local\\Temp\\ipykernel_25780\\3201788532.py:14: FutureWarning: The frame.append method is deprecated and will be removed from pandas in a future version. Use pandas.concat instead.\n",
      "  pc_final = pc_final.append(results,ignore_index=True)\n",
      "C:\\Users\\Lily Ewing\\AppData\\Local\\Temp\\ipykernel_25780\\3201788532.py:14: FutureWarning: The frame.append method is deprecated and will be removed from pandas in a future version. Use pandas.concat instead.\n",
      "  pc_final = pc_final.append(results,ignore_index=True)\n",
      "C:\\Users\\Lily Ewing\\AppData\\Local\\Temp\\ipykernel_25780\\3201788532.py:14: FutureWarning: The frame.append method is deprecated and will be removed from pandas in a future version. Use pandas.concat instead.\n",
      "  pc_final = pc_final.append(results,ignore_index=True)\n",
      "C:\\Users\\Lily Ewing\\AppData\\Local\\Temp\\ipykernel_25780\\3201788532.py:14: FutureWarning: The frame.append method is deprecated and will be removed from pandas in a future version. Use pandas.concat instead.\n",
      "  pc_final = pc_final.append(results,ignore_index=True)\n",
      "C:\\Users\\Lily Ewing\\AppData\\Local\\Temp\\ipykernel_25780\\3201788532.py:14: FutureWarning: The frame.append method is deprecated and will be removed from pandas in a future version. Use pandas.concat instead.\n",
      "  pc_final = pc_final.append(results,ignore_index=True)\n"
     ]
    }
   ],
   "source": [
    "pc_final = pd.DataFrame(columns = ['cross_val_train','cross_val_test','test_recall','test_precision'])\n",
    "idx=0\n",
    "while idx < len(models.keys()):\n",
    "    for name,model in models.items():\n",
    "        results = {}\n",
    "        results['name']=name\n",
    "        name=model.fit(X_train_pc, y_train)\n",
    "        y_pred_train = model.predict(X_train_pc)\n",
    "        y_pred_test = model.predict(X_test_pc)\n",
    "        results['cross_val_train'] = np.mean(cross_val_score(model,X_train_pc,y_train,cv=4))\n",
    "        results['cross_val_test'] = np.mean(cross_val_score(model,X_test_pc,y_test,cv=4))\n",
    "        results['test_recall'] = recall_score(y_test, y_pred_test)\n",
    "        results['test_precision'] = precision_score(y_test, y_pred_test)\n",
    "        pc_final = pc_final.append(results,ignore_index=True)\n",
    "        idx+=1"
   ]
  },
  {
   "cell_type": "code",
   "execution_count": 17,
   "id": "402e9b3c-7ccb-41aa-956a-e9c2d90a0a87",
   "metadata": {},
   "outputs": [
    {
     "data": {
      "text/html": [
       "<div>\n",
       "<style scoped>\n",
       "    .dataframe tbody tr th:only-of-type {\n",
       "        vertical-align: middle;\n",
       "    }\n",
       "\n",
       "    .dataframe tbody tr th {\n",
       "        vertical-align: top;\n",
       "    }\n",
       "\n",
       "    .dataframe thead th {\n",
       "        text-align: right;\n",
       "    }\n",
       "</style>\n",
       "<table border=\"1\" class=\"dataframe\">\n",
       "  <thead>\n",
       "    <tr style=\"text-align: right;\">\n",
       "      <th></th>\n",
       "      <th>cross_val_train</th>\n",
       "      <th>cross_val_test</th>\n",
       "      <th>test_recall</th>\n",
       "      <th>test_precision</th>\n",
       "    </tr>\n",
       "    <tr>\n",
       "      <th>name</th>\n",
       "      <th></th>\n",
       "      <th></th>\n",
       "      <th></th>\n",
       "      <th></th>\n",
       "    </tr>\n",
       "  </thead>\n",
       "  <tbody>\n",
       "    <tr>\n",
       "      <th>LogReg</th>\n",
       "      <td>0.783675</td>\n",
       "      <td>0.763652</td>\n",
       "      <td>0.892388</td>\n",
       "      <td>0.770102</td>\n",
       "    </tr>\n",
       "    <tr>\n",
       "      <th>Decision Tree</th>\n",
       "      <td>0.837116</td>\n",
       "      <td>0.813993</td>\n",
       "      <td>0.892388</td>\n",
       "      <td>0.884265</td>\n",
       "    </tr>\n",
       "    <tr>\n",
       "      <th>Random Forest</th>\n",
       "      <td>0.881406</td>\n",
       "      <td>0.864334</td>\n",
       "      <td>0.938320</td>\n",
       "      <td>0.892634</td>\n",
       "    </tr>\n",
       "    <tr>\n",
       "      <th>Gradient Boost</th>\n",
       "      <td>0.877379</td>\n",
       "      <td>0.860068</td>\n",
       "      <td>0.908136</td>\n",
       "      <td>0.882653</td>\n",
       "    </tr>\n",
       "    <tr>\n",
       "      <th>Ada Boost</th>\n",
       "      <td>0.852855</td>\n",
       "      <td>0.848123</td>\n",
       "      <td>0.900262</td>\n",
       "      <td>0.879487</td>\n",
       "    </tr>\n",
       "    <tr>\n",
       "      <th>SVC</th>\n",
       "      <td>0.831991</td>\n",
       "      <td>0.834471</td>\n",
       "      <td>0.874016</td>\n",
       "      <td>0.871728</td>\n",
       "    </tr>\n",
       "    <tr>\n",
       "      <th>Naive Bayes</th>\n",
       "      <td>0.726940</td>\n",
       "      <td>0.713311</td>\n",
       "      <td>0.958005</td>\n",
       "      <td>0.692600</td>\n",
       "    </tr>\n",
       "  </tbody>\n",
       "</table>\n",
       "</div>"
      ],
      "text/plain": [
       "                cross_val_train  cross_val_test  test_recall  test_precision\n",
       "name                                                                        \n",
       "LogReg                 0.783675        0.763652     0.892388        0.770102\n",
       "Decision Tree          0.837116        0.813993     0.892388        0.884265\n",
       "Random Forest          0.881406        0.864334     0.938320        0.892634\n",
       "Gradient Boost         0.877379        0.860068     0.908136        0.882653\n",
       "Ada Boost              0.852855        0.848123     0.900262        0.879487\n",
       "SVC                    0.831991        0.834471     0.874016        0.871728\n",
       "Naive Bayes            0.726940        0.713311     0.958005        0.692600"
      ]
     },
     "execution_count": 17,
     "metadata": {},
     "output_type": "execute_result"
    }
   ],
   "source": [
    "pc_final.set_index('name')"
   ]
  },
  {
   "cell_type": "markdown",
   "id": "333c00e7-3336-4dab-bef3-aec019c12b7c",
   "metadata": {},
   "source": [
    "Extra Tree Classifier"
   ]
  },
  {
   "cell_type": "code",
   "execution_count": 18,
   "id": "74b2f736-688f-4f5d-bf65-b5518a46d4f8",
   "metadata": {},
   "outputs": [
    {
     "name": "stdout",
     "output_type": "stream",
     "text": [
      "0.8367284756681466\n"
     ]
    },
    {
     "data": {
      "text/plain": [
       "{'max_depth': None, 'max_features': None, 'max_leaf_nodes': 10}"
      ]
     },
     "execution_count": 18,
     "metadata": {},
     "output_type": "execute_result"
    }
   ],
   "source": [
    "et= ExtraTreeClassifier()\n",
    "params={'max_depth':[None,3,4],\n",
    "        'max_features':[None,'auto'],\n",
    "        'max_leaf_nodes':[5,10]}\n",
    "et_gs= GridSearchCV(et,param_grid=params)\n",
    "et_gs.fit(X_train,y_train)\n",
    "print(et_gs.best_score_)\n",
    "et_gs.best_params_"
   ]
  },
  {
   "cell_type": "markdown",
   "id": "42fba95b-a292-4d1a-9345-816891818c4b",
   "metadata": {},
   "source": [
    "Bagging Classifier"
   ]
  },
  {
   "cell_type": "code",
   "execution_count": 19,
   "id": "2f68614f-215e-4938-80c1-0ec8700e855c",
   "metadata": {},
   "outputs": [
    {
     "name": "stdout",
     "output_type": "stream",
     "text": [
      "cross_val_train= 0.7269399707174231\n",
      "cross_val_train= 0.7133105802047782\n",
      "test_recall= 0.9488188976377953\n",
      "test_precision= 0.9550858652575958\n"
     ]
    }
   ],
   "source": [
    "bag= BaggingClassifier()\n",
    "bag.fit(X_train,y_train)\n",
    "y_pred_train= bag.predict(X_train)\n",
    "y_pred_test= bag.predict(X_test)\n",
    "print(f'cross_val_train= {np.mean(cross_val_score(model,X_train_pc,y_train,cv=4))}')\n",
    "print(f'cross_val_train= {np.mean(cross_val_score(model,X_test_pc,y_test,cv=4))}')\n",
    "print(f'test_recall= {recall_score(y_test,y_pred_test)}')\n",
    "print(f'test_precision= {precision_score(y_test,y_pred_test)}')"
   ]
  },
  {
   "cell_type": "markdown",
   "id": "fee18b0d-3897-4171-871b-96f25716765b",
   "metadata": {},
   "source": [
    "Final Model"
   ]
  },
  {
   "cell_type": "code",
   "execution_count": 20,
   "id": "c7daf570-51f8-4340-827d-a801a99e360f",
   "metadata": {},
   "outputs": [],
   "source": [
    "vote= VotingClassifier([\n",
    "    ('rf',RandomForestClassifier(bootstrap=False,n_estimators=1000)),\n",
    "    ('gb',GradientBoostingClassifier(max_depth=10,subsample=0.8)),\n",
    "    ('bag',BaggingClassifier(n_estimators=10))\n",
    "])"
   ]
  },
  {
   "cell_type": "code",
   "execution_count": 21,
   "id": "faeebb60-eda1-439b-9e11-5e4703c19f14",
   "metadata": {},
   "outputs": [
    {
     "data": {
      "text/plain": [
       "VotingClassifier(estimators=[('rf',\n",
       "                              RandomForestClassifier(bootstrap=False,\n",
       "                                                     n_estimators=1000)),\n",
       "                             ('gb',\n",
       "                              GradientBoostingClassifier(max_depth=10,\n",
       "                                                         subsample=0.8)),\n",
       "                             ('bag', BaggingClassifier())])"
      ]
     },
     "execution_count": 21,
     "metadata": {},
     "output_type": "execute_result"
    }
   ],
   "source": [
    "vote.fit(X_train,y_train)"
   ]
  },
  {
   "cell_type": "code",
   "execution_count": 22,
   "id": "7d494964-9641-4588-a717-ddf6f2eaa92b",
   "metadata": {},
   "outputs": [],
   "source": [
    "filename= 'final_model.sav'\n",
    "pickle.dump(vote,open(filename, 'wb'))"
   ]
  },
  {
   "cell_type": "markdown",
   "id": "68f98092-280a-449d-a648-3a3c3e390b21",
   "metadata": {},
   "source": [
    "Running Models"
   ]
  },
  {
   "cell_type": "code",
   "execution_count": 23,
   "id": "92df42ff-2646-40fb-bb3d-3fea3b0a660c",
   "metadata": {},
   "outputs": [
    {
     "name": "stdout",
     "output_type": "stream",
     "text": [
      "0.9447261452745914\n"
     ]
    },
    {
     "data": {
      "text/plain": [
       "{'max_depth': None, 'max_features': 'auto', 'n_estimators': 125}"
      ]
     },
     "execution_count": 23,
     "metadata": {},
     "output_type": "execute_result"
    }
   ],
   "source": [
    "rf= RandomForestClassifier()\n",
    "params= {'max_depth':[None,3,4],\n",
    "         'max_features':[None,'auto'],\n",
    "         'n_estimators':[75,100,125]}\n",
    "rf_gs= GridSearchCV(rf,param_grid=params)\n",
    "rf_gs.fit(X_train,y_train)\n",
    "print(rf_gs.best_score_)\n",
    "rf_gs.best_params_\n"
   ]
  },
  {
   "cell_type": "code",
   "execution_count": 24,
   "id": "494545cf-d139-4b1e-8ada-d64743755950",
   "metadata": {},
   "outputs": [
    {
     "data": {
      "text/plain": [
       "RandomForestClassifier()"
      ]
     },
     "execution_count": 24,
     "metadata": {},
     "output_type": "execute_result"
    }
   ],
   "source": [
    "rf= RandomForestClassifier()\n",
    "rf.fit(X_train,y_train)"
   ]
  },
  {
   "cell_type": "code",
   "execution_count": 25,
   "id": "3614e3aa-2fa6-4264-8157-a3da958fe690",
   "metadata": {},
   "outputs": [
    {
     "data": {
      "text/plain": [
       "array([[-1.25472977, -0.03517855, -0.1335093 , -0.42833737,  1.02614408,\n",
       "        -0.51403261, -0.87253073, -0.91848291,  0.39411313, -0.36488324,\n",
       "        -0.24501332, -0.55893964,  1.0459183 ,  1.78070948, -0.59758589,\n",
       "        -0.59800159, -1.28640995, -1.59315573, -0.56404251,  1.02614408,\n",
       "        -0.76825854, -0.24309398, -0.34230342, -0.51614194, -0.40909055,\n",
       "         1.00652396, -1.49056789, -0.8826584 , -0.88061189, -0.59885312,\n",
       "        -0.02833014, -0.35352552]])"
      ]
     },
     "execution_count": 25,
     "metadata": {},
     "output_type": "execute_result"
    }
   ],
   "source": [
    "instances= X_test[[735]]\n",
    "instances"
   ]
  },
  {
   "cell_type": "code",
   "execution_count": 26,
   "id": "38a6ac64-a797-42af-8c32-7085c9a637e6",
   "metadata": {},
   "outputs": [
    {
     "name": "stdout",
     "output_type": "stream",
     "text": [
      "Prediction [[0.65 0.35]]\n",
      "Bias (trainset prior) [[0.33285139 0.66714861]]\n",
      "Feature contributions:\n",
      "FSGRINC [ 0.0129955 -0.0129955]\n",
      "REALPROP [ 8.18776123e-05 -8.18776123e-05]\n",
      "FSGA [ 0.00320541 -0.00320541]\n",
      "FSSSI [ 0.01504463 -0.01504463]\n",
      "CERTHHSZ [ 0.02947745 -0.02947745]\n",
      "FSDIS [ 0.00178857 -0.00178857]\n",
      "FSSLTDE2 [-0.00081925  0.00081925]\n",
      "FSUNEARN [ 0.0239834 -0.0239834]\n",
      "FSTOTDED [-0.05432366  0.05432366]\n",
      "TANF_IND [ 0.02048719 -0.02048719]\n",
      "LIQRESOR [-0.02692989  0.02692989]\n",
      "FSWAGES [-0.00675846  0.00675846]\n",
      "FSSLTDED [ 0.13843263 -0.13843263]\n",
      "FSNONCIT [ 0.01506432 -0.01506432]\n",
      "FSERNDED [-0.01438242  0.01438242]\n",
      "FSEARN [-0.00628775  0.00628775]\n",
      "FSTOTDE2 [ 0.00502763 -0.00502763]\n",
      "FSSTDDE2 [ 0.04309689 -0.04309689]\n",
      "FSERNDE2 [-0.00698699  0.00698699]\n",
      "FSUSIZE [ 0.00625466 -0.00625466]\n",
      "WRK_POOR [-0.00304939  0.00304939]\n",
      "FSASSET [-0.02429334  0.02429334]\n",
      "FSTANF [ 0.03306546 -0.03306546]\n",
      "HWGT [ 0.03794798 -0.03794798]\n",
      "FSNELDER [ 0.00123963 -0.00123963]\n",
      "SHELDED [ 0.11133441 -0.11133441]\n",
      "TPOV [-0.01289646  0.01289646]\n",
      "FSNETINC [-0.00363363  0.00363363]\n",
      "RAWNET [-0.00502442  0.00502442]\n",
      "RAWERND [-0.01809598  0.01809598]\n",
      "FSVEHAST [0. 0.]\n",
      "VEHICLEA [ 0.00210261 -0.00210261]\n"
     ]
    }
   ],
   "source": [
    "ft_list=[]\n",
    "prediction, bias, contributions= ti.predict(rf, instances)\n",
    "print(\"Prediction\", prediction)\n",
    "print(\"Bias (trainset prior)\", bias)\n",
    "print(\"Feature contributions:\")\n",
    "for c, feature in zip(contributions[0],\n",
    "                      X.columns):\n",
    "    ft_list.append((feature, np.round(c,2)))\n",
    "    print(feature,c)\n",
    "    \n",
    "labels, values= zip(*ft_list)"
   ]
  },
  {
   "cell_type": "code",
   "execution_count": 27,
   "id": "dac5bf3f-570b-48f8-9c79-87c640600b6c",
   "metadata": {},
   "outputs": [],
   "source": [
    "df1= pd.DataFrame(ft_list,columns=['feature','array'])\n",
    "df2= pd.DataFrame(df1[\"array\"].to_list(), columns=['pred_0','pred_1'])\n",
    "coef_df= pd.concat([df1,df2],axis=1).drop(columns=['array'])\n",
    "coef_df.to_csv('./data/2018_indicators/coef.csv',index=None)"
   ]
  },
  {
   "cell_type": "code",
   "execution_count": 28,
   "id": "71ba24b5-3233-41f3-ba21-e6e782988a0f",
   "metadata": {},
   "outputs": [
    {
     "data": {
      "image/png": "[encoded data removed]",
      "text/plain": [
       "<Figure size 2000x1000 with 1 Axes>"
      ]
     },
     "metadata": {},
     "output_type": "display_data"
    }
   ],
   "source": [
    "fig, ax= plt.subplots(figsize=(20,10))\n",
    "plt.title('Random Forest range of Coefficients Effect on Snap \\n (the larger the range, the more impact on predicting SNAP)')\n",
    "plt.grid(zorder=0,alpha=0.2)\n",
    "xs= np.arange(len(labels))\n",
    "ax.bar(xs,coef_df['pred_0'], label='pred 0')\n",
    "ax.bar(xs,coef_df['pred_1'], label='pred 1')\n",
    "ax.axhline(y=0,linestyle='--',color='black',linewidth=4)\n",
    "ax.set_xticks(coef_df.index)\n",
    "ax.set_xticklabels(coef_df['feature'],rotation=45)\n",
    "plt.legend()\n",
    "plt.savefig('./images/rf_corr.png');"
   ]
  },
  {
   "cell_type": "markdown",
   "id": "7c8d7d5b-34ab-45c0-8a70-bab9878ec8c6",
   "metadata": {},
   "source": [
    "Reiterated"
   ]
  },
  {
   "cell_type": "code",
   "execution_count": 34,
   "id": "f1368f3c-cdca-4f88-94f4-e1f90973ab1f",
   "metadata": {},
   "outputs": [
    {
     "name": "stdout",
     "output_type": "stream",
     "text": [
      "0.9450917759875713\n"
     ]
    },
    {
     "data": {
      "text/plain": [
       "{'max_depth': 15, 'max_features': 'log2', 'n_estimators': 200}"
      ]
     },
     "execution_count": 34,
     "metadata": {},
     "output_type": "execute_result"
    }
   ],
   "source": [
    "rf= RandomForestClassifier()\n",
    "params= {'max_depth':[15,5,4],\n",
    "         'max_features':['sqrt','log2'],\n",
    "         'n_estimators':[20,100,200]}\n",
    "rf_gs= GridSearchCV(rf,param_grid=params)\n",
    "rf_gs.fit(X_train,y_train)\n",
    "print(rf_gs.best_score_)\n",
    "rf_gs.best_params_\n"
   ]
  },
  {
   "cell_type": "code",
   "execution_count": 32,
   "id": "c2a75ca9-e279-478e-850f-918297f37cda",
   "metadata": {},
   "outputs": [
    {
     "name": "stdout",
     "output_type": "stream",
     "text": [
      "0.9443598449082911\n"
     ]
    },
    {
     "data": {
      "text/plain": [
       "{'max_depth': 25, 'max_features': 'auto', 'n_estimators': 100}"
      ]
     },
     "execution_count": 32,
     "metadata": {},
     "output_type": "execute_result"
    }
   ],
   "source": [
    "rf= RandomForestClassifier()\n",
    "params= {'max_depth':[25,3,4],\n",
    "         'max_features':['log2','auto'],\n",
    "         'n_estimators':[200,100,125]}\n",
    "rf_gs= GridSearchCV(rf,param_grid=params)\n",
    "rf_gs.fit(X_train,y_train)\n",
    "print(rf_gs.best_score_)\n",
    "rf_gs.best_params_\n"
   ]
  },
  {
   "cell_type": "code",
   "execution_count": 33,
   "id": "c09bd417-47e5-4566-b197-0e8e9cfcc436",
   "metadata": {},
   "outputs": [
    {
     "name": "stdout",
     "output_type": "stream",
     "text": [
      "0.9450944546008533\n"
     ]
    },
    {
     "data": {
      "text/plain": [
       "{'max_depth': 25, 'max_features': 'log2', 'n_estimators': 125}"
      ]
     },
     "execution_count": 33,
     "metadata": {},
     "output_type": "execute_result"
    }
   ],
   "source": [
    "rf= RandomForestClassifier()\n",
    "params= {'max_depth':[25,3,4],\n",
    "         'max_features':[None,'log2'],\n",
    "         'n_estimators':[75,50,125]}\n",
    "rf_gs= GridSearchCV(rf,param_grid=params)\n",
    "rf_gs.fit(X_train,y_train)\n",
    "print(rf_gs.best_score_)\n",
    "rf_gs.best_params_\n"
   ]
  },
  {
   "cell_type": "code",
   "execution_count": null,
   "id": "ebe017b5-ec96-4b75-97bb-a061227f107c",
   "metadata": {},
   "outputs": [],
   "source": []
  }
 ],
 "metadata": {
  "kernelspec": {
   "display_name": "Python 3 (ipykernel)",
   "language": "python",
   "name": "python3"
  },
  "language_info": {
   "codemirror_mode": {
    "name": "ipython",
    "version": 3
   },
   "file_extension": ".py",
   "mimetype": "text/x-python",
   "name": "python",
   "nbconvert_exporter": "python",
   "pygments_lexer": "ipython3",
   "version": "3.9.13"
  },
  "vscode": {
   "interpreter": {
    "hash": "d621e446098be84d287ba10ab500db6b261e9d45fe8561dc8e41a916005279e8"
   }
  }
 },
 "nbformat": 4,
 "nbformat_minor": 5
}
